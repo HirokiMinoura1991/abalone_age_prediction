{
 "cells": [
  {
   "cell_type": "code",
   "execution_count": 1,
   "metadata": {},
   "outputs": [],
   "source": [
    "import pandas as pd\n",
    "train = pd.read_table(\"train.tsv\" ) # 学習用データ"
   ]
  },
  {
   "cell_type": "code",
   "execution_count": 2,
   "metadata": {},
   "outputs": [
    {
     "name": "stdout",
     "output_type": "stream",
     "text": [
      "      Length  Diameter  Height  Whole weight  Shucked weight  Viscera weight  \\\n",
      "0      0.530     0.435   0.155        0.6990          0.2880          0.1595   \n",
      "1      0.710     0.565   0.195        1.8170          0.7850          0.4920   \n",
      "2      0.625     0.520   0.180        1.3540          0.4845          0.3510   \n",
      "3      0.375     0.280   0.095        0.2225          0.0875          0.0430   \n",
      "4      0.415     0.330   0.090        0.3595          0.1700          0.0810   \n",
      "...      ...       ...     ...           ...             ...             ...   \n",
      "2083   0.655     0.540   0.165        1.4030          0.6955          0.2385   \n",
      "2084   0.305     0.230   0.075        0.1455          0.0595          0.0305   \n",
      "2085   0.525     0.395   0.165        0.7820          0.2850          0.1405   \n",
      "2086   0.435     0.345   0.115        0.4180          0.2220          0.0735   \n",
      "2087   0.570     0.420   0.130        0.7745          0.3535          0.1505   \n",
      "\n",
      "      Shell weight  \n",
      "0           0.2050  \n",
      "1           0.4900  \n",
      "2           0.3750  \n",
      "3           0.0800  \n",
      "4           0.0900  \n",
      "...            ...  \n",
      "2083        0.4200  \n",
      "2084        0.0500  \n",
      "2085        0.2850  \n",
      "2086        0.1060  \n",
      "2087        0.2365  \n",
      "\n",
      "[2088 rows x 7 columns] 0       10\n",
      "1       11\n",
      "2       11\n",
      "3       10\n",
      "4        6\n",
      "        ..\n",
      "2083    11\n",
      "2084     6\n",
      "2085    19\n",
      "2086     7\n",
      "2087     9\n",
      "Name: Rings, Length: 2088, dtype: int64\n"
     ]
    }
   ],
   "source": [
    "# 特徴量を活用して重回帰分析を実施\n",
    "x2 = pd.DataFrame()\n",
    "x2['Length'] = train['Length']\n",
    "x2['Diameter'] = train['Diameter']\n",
    "x2['Height'] = train['Height']\n",
    "x2['Whole weight'] = train['Whole weight']\n",
    "x2['Shucked weight'] = train['Shucked weight']\n",
    "x2['Viscera weight'] = train['Viscera weight']\n",
    "x2['Shell weight'] = train['Shell weight']\n",
    "y2 = train['Rings']\n",
    "print(x2,y2)"
   ]
  },
  {
   "cell_type": "code",
   "execution_count": 3,
   "metadata": {},
   "outputs": [
    {
     "data": {
      "text/plain": [
       "LinearRegression(copy_X=True, fit_intercept=True, n_jobs=None, normalize=False)"
      ]
     },
     "execution_count": 3,
     "metadata": {},
     "output_type": "execute_result"
    }
   ],
   "source": [
    "# 重回帰分析では、データX1 ~ X7(Length, Diameter, Height, Whole weight,Shucked weight,Viscera weight,Shell weightに当てはまる)と結果のデータY(Rings)から、\n",
    "# 以下の式の傾きa1 ~ a4と切片bの値を計算します。(今回相関係数の低いSexは取り除いた。)\n",
    "# Y = a1 * X1 + a2 * X2 + a3 * X3 + a4 * X4 + a5 * X5+a6* X6+a7 * X7+b\n",
    "# 傾きa1 ~ a7と切片bが分かれば、\n",
    "# あとはX1 ~ X7のデータさえあればYのデータ(Rings)を予測することができる。\n",
    "\n",
    "\n",
    "# その傾きa1 ~ a4と切片bを計算するためにLinearRegressionのfitメソッドを利用します。\n",
    "# fitメソッド・・・線形回帰モデルの当てはめを実行。\n",
    "from sklearn.linear_model import LinearRegression\n",
    "linear_regression2 = LinearRegression()\n",
    "linear_regression2.fit(x2,y2)"
   ]
  },
  {
   "cell_type": "code",
   "execution_count": 4,
   "metadata": {},
   "outputs": [
    {
     "name": "stdout",
     "output_type": "stream",
     "text": [
      "[ -0.33789848  13.89866466   7.54751915   7.98939759 -18.67001139\n",
      "  -9.39655627  10.04050305]\n"
     ]
    }
   ],
   "source": [
    "# 回帰係数（y＝ax＋bで表したときの、係数aを指す。）を求めるにはcoefを使う。\n",
    "a2 = linear_regression2.coef_\n",
    "print(a2)"
   ]
  },
  {
   "cell_type": "code",
   "execution_count": 5,
   "metadata": {},
   "outputs": [
    {
     "name": "stdout",
     "output_type": "stream",
     "text": [
      "2.7880060985544723\n"
     ]
    }
   ],
   "source": [
    "# 切片（y＝ax＋bで表したときの、bを指す。）を求めるにはinterceptを使う。\n",
    "b2 = linear_regression2.intercept_\n",
    "print(b2)"
   ]
  },
  {
   "cell_type": "code",
   "execution_count": 6,
   "metadata": {},
   "outputs": [],
   "source": [
    "# テスト用データを読み込む\n",
    "test = pd.read_table(\"test.tsv\" ) "
   ]
  },
  {
   "cell_type": "code",
   "execution_count": 7,
   "metadata": {},
   "outputs": [
    {
     "name": "stdout",
     "output_type": "stream",
     "text": [
      "0        9.426756\n",
      "1       11.130635\n",
      "2       16.552727\n",
      "3       13.848497\n",
      "4        7.992006\n",
      "          ...    \n",
      "2084     6.268661\n",
      "2085     9.621536\n",
      "2086    13.140921\n",
      "2087    12.453247\n",
      "2088    11.925586\n",
      "Name: Rings, Length: 2089, dtype: float64\n"
     ]
    }
   ],
   "source": [
    "#  Y = a1 * X1 + a2 * X2 + a3 * X3 + a4 * X4 + a5 * X5+a6* X6+a7 * X7+b\n",
    "test['Rings'] = a2[0]*test['Length']+a2[1]*test['Diameter']+a2[2]*test['Height']+a2[3]*test['Whole weight']+a2[4]*test['Shucked weight']+a2[5]*test['Viscera weight']+a2[6]*test['Shell weight']+b2\n",
    "print(test['Rings'])"
   ]
  },
  {
   "cell_type": "code",
   "execution_count": 8,
   "metadata": {},
   "outputs": [],
   "source": [
    "# 1列目に評価用データの\"id\"を、2列目に2列目に予測した\"Rings\"を記入したファイルを、ヘッダ無しcsv形式\n",
    "test[['id','Rings']].to_csv('./submit.csv', header=False, index=False)"
   ]
  },
  {
   "cell_type": "code",
   "execution_count": null,
   "metadata": {},
   "outputs": [],
   "source": []
  }
 ],
 "metadata": {
  "kernelspec": {
   "display_name": "Python 3",
   "language": "python",
   "name": "python3"
  },
  "language_info": {
   "codemirror_mode": {
    "name": "ipython",
    "version": 3
   },
   "file_extension": ".py",
   "mimetype": "text/x-python",
   "name": "python",
   "nbconvert_exporter": "python",
   "pygments_lexer": "ipython3",
   "version": "3.7.6"
  }
 },
 "nbformat": 4,
 "nbformat_minor": 4
}
